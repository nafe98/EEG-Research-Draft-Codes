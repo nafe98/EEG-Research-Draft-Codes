{
 "cells": [
  {
   "cell_type": "markdown",
   "id": "a5db84eb",
   "metadata": {},
   "source": [
    "# About Dataset"
   ]
  },
  {
   "cell_type": "markdown",
   "id": "531dc606",
   "metadata": {},
   "source": [
    "The dataset contains EEG signals from 11 subjects with labels of alert and drowsy. It can be opened with Matlab. We extracted the data for our own research purpose from another public dataset:\n",
    "\n",
    "Cao, Z., et al., Multi-channel EEG recordings during a sustained-attention driving task. Scientific data, 2019. 6(1): p. 1-8.\n",
    "\n",
    "If you find the dataset useful, please give credits to their works.\n",
    "\n",
    "The details on how the data were extracted are described in our paper:\n",
    "\n",
    "\"Jian Cui, Zirui Lan, Yisi Liu, Ruilin Li, Fan Li, Olga Sourina, Wolfgang Müller-Wittig, A Compact and Interpretable Convolutional Neural Network for Cross-Subject Driver Drowsiness Detection from Single-Channel EEG, Methods, 2021, ISSN 1046-2023, https://doi.org/10.1016/j.ymeth.2021.04.017.\"\n",
    "\n",
    "The codes of the paper above are accessible from:\n",
    "\n",
    "https://github.com/cuijiancorbin/A-Compact-and-Interpretable-Convolutional-Neural-Network-for-Single-Channel-EEG\n",
    "\n",
    "The data file contains 3 variables and they are EEGsample, substate and subindex.\n",
    "\n",
    "\"EEGsample\" contains 2022 EEG samples of size 20x384 from 11 subjects. Each sample is a 3s EEG data with 128Hz from 30 EEG channels.\n",
    "\"subindex\" is an array of 2022x1. It contains the subject indexes from 1-11 corresponding to each EEG sample.\n",
    "\"substate\" is an array of 2022x1. It contains the labels of the samples. 0 corresponds to the alert state and 1 correspond to the drowsy state.\n",
    "\n",
    "The unbalanced version of this dataset is accessible from:\n",
    "https://figshare.com/articles/dataset/EEG_driver_drowsiness_dataset_unbalanced_/16586957"
   ]
  },
  {
   "cell_type": "markdown",
   "id": "9038b805",
   "metadata": {},
   "source": [
    "# Importing Libraires "
   ]
  },
  {
   "cell_type": "code",
   "execution_count": 1,
   "id": "1c6ce5b9",
   "metadata": {},
   "outputs": [],
   "source": [
    "import scipy.io\n",
    "import numpy as np\n",
    "import pandas as pd\n",
    "from scipy.io import loadmat\n",
    "from tabulate import tabulate\n",
    "import matplotlib.pyplot as plt"
   ]
  },
  {
   "cell_type": "markdown",
   "id": "a1be599b",
   "metadata": {},
   "source": [
    "# Loading Dataset"
   ]
  },
  {
   "cell_type": "code",
   "execution_count": 2,
   "id": "19e0ac1d",
   "metadata": {},
   "outputs": [],
   "source": [
    "file_path = 'EEG driver drowsiness dataset.mat'\n",
    "mat_data = scipy.io.loadmat(file_path)"
   ]
  },
  {
   "cell_type": "code",
   "execution_count": 3,
   "id": "3ef7b0f6",
   "metadata": {
    "scrolled": true
   },
   "outputs": [
    {
     "name": "stdout",
     "output_type": "stream",
     "text": [
      "{'__header__': b'MATLAB 5.0 MAT-file, Platform: PCWIN64, Created on: Thu Dec 12 16:15:31 2019', '__version__': '1.0', '__globals__': [], 'EEGsample': array([[[ 4.08097622e+00,  5.36373657e+00,  2.16892286e+00, ...,\n",
      "         -2.43467111e+00, -1.08033326e+01, -4.06570287e+00],\n",
      "        [ 3.78602291e+00,  6.18806022e+00,  1.72710622e+00, ...,\n",
      "         -2.23788269e+00, -1.08040545e+01, -3.16985550e+00],\n",
      "        [ 8.34680437e+00,  8.69160090e+00, -1.09056499e-02, ...,\n",
      "          2.30521997e+00, -1.33921422e+01, -5.27739673e+00],\n",
      "        ...,\n",
      "        [ 1.52884814e+00,  7.93795880e-01, -1.45126572e+00, ...,\n",
      "         -1.22710349e+00, -5.26310889e+00, -1.22684549e+00],\n",
      "        [-1.19949821e+00, -1.54496214e+00, -4.31985930e+00, ...,\n",
      "         -5.32550694e+00, -5.48814272e+00, -1.57636907e+00],\n",
      "        [ 1.59400945e+00,  1.90051435e+00, -4.64426331e+00, ...,\n",
      "         -3.48251971e+00, -2.09547756e+00,  4.01980667e+00]],\n",
      "\n",
      "       [[ 5.10435476e+00,  2.66309990e-01,  3.92736106e+00, ...,\n",
      "         -2.43175735e+00, -5.35540437e+00, -8.37602307e+00],\n",
      "        [ 4.14544896e+00, -7.94427611e-01,  2.34920001e+00, ...,\n",
      "         -2.90737330e+00, -5.61686079e+00, -7.80745982e+00],\n",
      "        [ 7.75071264e+00,  1.94663028e+00, -1.20939969e+00, ...,\n",
      "         -3.99846897e+00, -5.85893877e+00, -5.94541405e+00],\n",
      "        ...,\n",
      "        [-7.03956529e+00, -1.09246141e+01, -1.22859907e+01, ...,\n",
      "          1.47647925e+01,  1.05887181e+01,  1.21205781e+01],\n",
      "        [-2.07348656e+00, -5.91328897e+00, -8.64423635e+00, ...,\n",
      "          1.25590337e+01,  9.35502329e+00,  9.82700277e+00],\n",
      "        [-5.03784256e+00, -5.73751503e+00, -8.75455366e+00, ...,\n",
      "          1.29967212e+01,  1.02247234e+01,  8.69885723e+00]],\n",
      "\n",
      "       [[-1.41976822e+01, -9.21751853e+00, -3.25265590e+00, ...,\n",
      "         -5.96497699e+00, -5.17111895e+00, -4.71135896e+00],\n",
      "        [-1.32392620e+01, -8.33137900e+00, -1.32934869e+00, ...,\n",
      "         -6.80346715e+00, -5.00460652e+00, -4.00642663e+00],\n",
      "        [-1.29560231e+01, -6.57265929e+00,  4.32026421e-01, ...,\n",
      "         -2.81103538e-01, -1.84378955e+00, -2.75801193e+00],\n",
      "        ...,\n",
      "        [-8.14339086e+00, -2.01137709e+00,  1.41707031e+00, ...,\n",
      "          2.32771403e+00,  2.05644990e+00,  2.20897934e+00],\n",
      "        [-1.16006318e+01, -5.11586887e+00, -1.13186497e+00, ...,\n",
      "         -1.07483822e+00,  9.77753024e-01, -4.13079411e-02],\n",
      "        [-1.14733549e+01, -6.20907504e+00, -9.35737413e-01, ...,\n",
      "         -2.80517632e+00,  4.71894748e-01,  2.67718000e-01]],\n",
      "\n",
      "       ...,\n",
      "\n",
      "       [[ 1.04622933e+01,  1.18923617e+01,  1.44945341e+01, ...,\n",
      "         -9.06546695e+00, -7.66058301e+00, -6.76023946e+00],\n",
      "        [ 1.55674322e+01,  1.68826873e+01,  1.82920011e+01, ...,\n",
      "         -1.19907815e+01, -1.25935483e+01, -8.55167506e+00],\n",
      "        [ 5.60241832e+00,  5.82555418e+00,  6.72208235e+00, ...,\n",
      "         -3.76862970e+00, -4.55091222e+00, -5.99839635e+00],\n",
      "        ...,\n",
      "        [ 7.03607106e-01, -3.13193792e-01, -2.79633410e+00, ...,\n",
      "          2.18366846e+00, -6.78955651e-01, -1.21561584e+00],\n",
      "        [ 4.54410192e+00,  3.87902314e+00,  2.80911668e+00, ...,\n",
      "         -5.60866470e-01, -1.15395115e+00, -4.59980045e-02],\n",
      "        [-3.44608107e-01, -6.10163763e-01,  2.36424345e-01, ...,\n",
      "         -1.32035689e+00, -1.27834651e+00, -3.93628333e-01]],\n",
      "\n",
      "       [[-3.12505298e+00, -6.40706560e-01,  1.44206574e+00, ...,\n",
      "          7.10477226e+00,  1.47892808e+00, -8.53822616e+00],\n",
      "        [-3.06040278e+00,  1.92399788e+00, -2.94058081e-01, ...,\n",
      "         -7.64146898e+00, -4.60261658e+00, -2.82839062e+00],\n",
      "        [ 1.25203934e+01,  1.24705466e+01,  5.93333257e+00, ...,\n",
      "          1.32828897e+01,  8.06569950e+00, -1.47448555e+01],\n",
      "        ...,\n",
      "        [-1.22293122e+00, -1.72582444e+00,  1.42027132e+00, ...,\n",
      "          1.06657397e+01,  3.74729322e+00, -1.53451829e+00],\n",
      "        [-2.91921396e+00, -1.89188537e+00,  9.85753990e-01, ...,\n",
      "          1.02018221e+01,  8.25287159e+00,  3.78683934e+00],\n",
      "        [-6.23672151e-01, -6.40457256e-01,  8.02249927e-01, ...,\n",
      "          6.81585570e+00,  5.19124876e+00,  1.81584282e+00]],\n",
      "\n",
      "       [[-1.37346924e+01, -1.06854039e+01, -1.03333885e+01, ...,\n",
      "          5.80505847e+00,  7.14297821e+00,  5.36574544e+00],\n",
      "        [-7.88593921e+00, -7.71029456e+00, -5.24597618e+00, ...,\n",
      "          2.77044003e+00,  7.75241659e-01, -2.34010414e+00],\n",
      "        [-1.01372006e+01, -7.77213876e+00, -5.07525333e+00, ...,\n",
      "          8.98354267e+00,  9.88822045e+00,  1.01451267e+01],\n",
      "        ...,\n",
      "        [-4.22640312e+00, -2.62188023e+00, -5.65680421e+00, ...,\n",
      "          9.23831448e-01,  1.64407891e+00,  2.46854127e+00],\n",
      "        [-1.73010736e+00, -1.05555258e+00, -4.33872187e+00, ...,\n",
      "          1.34110994e+00,  1.56584381e+00,  1.67926918e+00],\n",
      "        [-2.06108394e-01,  1.26965479e-02, -2.08229856e+00, ...,\n",
      "         -1.33826170e+00, -3.01095466e-01,  4.12523082e-01]]]), 'subindex': array([[ 1],\n",
      "       [ 1],\n",
      "       [ 1],\n",
      "       ...,\n",
      "       [11],\n",
      "       [11],\n",
      "       [11]], dtype=uint8), 'substate': array([[0],\n",
      "       [0],\n",
      "       [0],\n",
      "       ...,\n",
      "       [1],\n",
      "       [1],\n",
      "       [1]], dtype=uint8)}\n"
     ]
    }
   ],
   "source": [
    "print(mat_data)"
   ]
  },
  {
   "cell_type": "markdown",
   "id": "378970c9",
   "metadata": {},
   "source": [
    "# Exploratory Data Analysis"
   ]
  },
  {
   "cell_type": "code",
   "execution_count": 4,
   "id": "8df176e3",
   "metadata": {},
   "outputs": [
    {
     "data": {
      "text/plain": [
       "(dict_keys(['__header__', '__version__', '__globals__', 'EEGsample', 'subindex', 'substate']),\n",
       " {'__header__': bytes,\n",
       "  '__version__': str,\n",
       "  '__globals__': list,\n",
       "  'EEGsample': numpy.ndarray,\n",
       "  'subindex': numpy.ndarray,\n",
       "  'substate': numpy.ndarray})"
      ]
     },
     "execution_count": 4,
     "metadata": {},
     "output_type": "execute_result"
    }
   ],
   "source": [
    "# Inspecting the keys and structure of the loaded data\n",
    "mat_data.keys(), {key: type(mat_data[key]) for key in mat_data.keys()}"
   ]
  },
  {
   "cell_type": "markdown",
   "id": "f408c2eb",
   "metadata": {},
   "source": [
    "<div style=\"background-color: #cce5ff; padding: 10px; border: 1px solid #0066cc;\">\n",
    "    <h2 style=\"color: #0066cc; font-weight: bold;\">Assigning Variables</h2>\n",
    "    \n",
    "</div>\n"
   ]
  },
  {
   "cell_type": "code",
   "execution_count": 5,
   "id": "ea574634",
   "metadata": {
    "scrolled": true
   },
   "outputs": [],
   "source": [
    "eeg_samples = mat_data['EEGsample']\n",
    "subindex = mat_data['subindex']\n",
    "substates = mat_data['substate']"
   ]
  },
  {
   "cell_type": "markdown",
   "id": "e01f0ce2",
   "metadata": {},
   "source": [
    "### Calculate the duration of each sample in seconds"
   ]
  },
  {
   "cell_type": "markdown",
   "id": "19ad30a7",
   "metadata": {},
   "source": [
    "EEGsample\" contains 2022 EEG samples of size 20x384 from 11 subjects. Each sample is a 3s EEG data with 128Hz from 30 EEG channels. \"subindex\" is an array of 2022x1. It contains the subject indexes from 1-11 corresponding to each EEG sample. \"substate\" is an array of 2022x1. It contains the labels of the samples. 0 corresponds to the alert state and 1 correspond to the drowsy state."
   ]
  },
  {
   "cell_type": "code",
   "execution_count": 6,
   "id": "61f89326",
   "metadata": {},
   "outputs": [],
   "source": [
    "# Calculate the duration of each sample in seconds\n",
    "sampling_rate = 128  # Hz\n",
    "\n",
    "num_samples, num_channels, num_time_points = eeg_samples.shape\n",
    "sample_duration = num_time_points / sampling_rate"
   ]
  },
  {
   "cell_type": "markdown",
   "id": "53a57cd0",
   "metadata": {},
   "source": [
    "### Check for missing values"
   ]
  },
  {
   "cell_type": "code",
   "execution_count": 7,
   "id": "b3ae59c7",
   "metadata": {},
   "outputs": [
    {
     "name": "stdout",
     "output_type": "stream",
     "text": [
      "No missing values in the EEG data.\n"
     ]
    }
   ],
   "source": [
    "missing_values = np.isnan(eeg_samples).sum()\n",
    "if missing_values == 0:\n",
    "    print(\"No missing values in the EEG data.\")\n",
    "else:\n",
    "    print(\"Number of missing values:\", missing_values)"
   ]
  },
  {
   "cell_type": "code",
   "execution_count": 8,
   "id": "32739917",
   "metadata": {},
   "outputs": [
    {
     "name": "stdout",
     "output_type": "stream",
     "text": [
      "Number of subjects: 11\n",
      "EEGsample shape: (2022, 30, 384)\n",
      "Number of Samples: 2022\n",
      "Number of Channels: 30\n",
      "Number of Time Points: 384\n",
      "Sample Duration (seconds): 3.0\n",
      "Unique labels: [0 1]\n",
      "Label counts: [1011 1011]\n"
     ]
    }
   ],
   "source": [
    "print(\"Number of subjects:\", len(np.unique(subindex)))\n",
    "print(\"EEGsample shape:\", eeg_samples.shape)\n",
    "print(\"Number of Samples:\", num_samples)\n",
    "print(\"Number of Channels:\", num_channels)\n",
    "print(\"Number of Time Points:\", num_time_points)\n",
    "print(\"Sample Duration (seconds):\", sample_duration)\n",
    "\n",
    "unique_labels, label_counts = np.unique(substates, return_counts=True)\n",
    "print(\"Unique labels:\", unique_labels)\n",
    "print(\"Label counts:\", label_counts)"
   ]
  },
  {
   "cell_type": "markdown",
   "id": "0b23edfa",
   "metadata": {},
   "source": [
    "#### The initial exploration of the EEG dataset reveals the following details:\n",
    "\n",
    "#### EEG Samples (EEGsample):\n",
    "\n",
    "  * The dataset contains 2022 EEG samples.\n",
    "  * Each EEG sample is from 30 channels.\n",
    "  * Each channel has 384 data points, corresponding to a 3-second EEG recording at a sampling rate of 128Hz.\n",
    "\n",
    "#### Subject States (substate):\n",
    "\n",
    "  * There are two unique states: 0 representing the alert state and 1 representing the drowsy state.\n",
    "  * Each state has 1011 samples, indicating a balanced dataset with respect to the two states.\n",
    "\n",
    "#### Subject Indexes (subindex):\n",
    "\n",
    "  * There are 11 unique subjects in the dataset (labeled 1 to 11).\n",
    "  * The distribution of samples across subjects varies, ranging from a minimum of 102 samples to a maximum of 314 samples per subject."
   ]
  },
  {
   "cell_type": "markdown",
   "id": "9ef7c61f",
   "metadata": {},
   "source": [
    "## State-specific Analysis: 'Alert' and 'Drowsy'"
   ]
  },
  {
   "cell_type": "code",
   "execution_count": 9,
   "id": "fe1ccc78",
   "metadata": {},
   "outputs": [],
   "source": [
    "substates_flat = substates.flatten()"
   ]
  },
  {
   "cell_type": "code",
   "execution_count": 10,
   "id": "ac80254c",
   "metadata": {},
   "outputs": [],
   "source": [
    "# Calculating means and standard deviations for each channel in both states\n",
    "\n",
    "#Alert States\n",
    "mean_alert = np.mean(eeg_samples[substates_flat == 0], axis=(0, 2))\n",
    "std_alert = np.std(eeg_samples[substates_flat == 0], axis=(0, 2))\n",
    "\n",
    "#Drowsy States\n",
    "mean_drowsy = np.mean(eeg_samples[substates_flat == 1], axis=(0, 2))\n",
    "std_drowsy = np.std(eeg_samples[substates_flat == 1], axis=(0, 2))"
   ]
  },
  {
   "cell_type": "code",
   "execution_count": 11,
   "id": "5f9566f2",
   "metadata": {},
   "outputs": [],
   "source": [
    "# Creating a DataFrame for easy viewing\n",
    "stats_df = pd.DataFrame({\n",
    "    'Channel': range(1, 31),\n",
    "    'Mean_Alert': mean_alert,\n",
    "    'Std_Alert': std_alert,\n",
    "    'Mean_Drowsy': mean_drowsy,\n",
    "    'Std_Drowsy': std_drowsy\n",
    "})"
   ]
  },
  {
   "cell_type": "code",
   "execution_count": 12,
   "id": "a53ec2a3",
   "metadata": {},
   "outputs": [
    {
     "data": {
      "text/html": [
       "<div>\n",
       "<style scoped>\n",
       "    .dataframe tbody tr th:only-of-type {\n",
       "        vertical-align: middle;\n",
       "    }\n",
       "\n",
       "    .dataframe tbody tr th {\n",
       "        vertical-align: top;\n",
       "    }\n",
       "\n",
       "    .dataframe thead th {\n",
       "        text-align: right;\n",
       "    }\n",
       "</style>\n",
       "<table border=\"1\" class=\"dataframe\">\n",
       "  <thead>\n",
       "    <tr style=\"text-align: right;\">\n",
       "      <th></th>\n",
       "      <th>Channel</th>\n",
       "      <th>Mean_Alert</th>\n",
       "      <th>Std_Alert</th>\n",
       "      <th>Mean_Drowsy</th>\n",
       "      <th>Std_Drowsy</th>\n",
       "    </tr>\n",
       "  </thead>\n",
       "  <tbody>\n",
       "    <tr>\n",
       "      <th>0</th>\n",
       "      <td>1</td>\n",
       "      <td>0.120450</td>\n",
       "      <td>17.630071</td>\n",
       "      <td>-0.163686</td>\n",
       "      <td>10.802148</td>\n",
       "    </tr>\n",
       "    <tr>\n",
       "      <th>1</th>\n",
       "      <td>2</td>\n",
       "      <td>0.082160</td>\n",
       "      <td>17.209800</td>\n",
       "      <td>-0.163763</td>\n",
       "      <td>12.170468</td>\n",
       "    </tr>\n",
       "    <tr>\n",
       "      <th>2</th>\n",
       "      <td>3</td>\n",
       "      <td>0.052289</td>\n",
       "      <td>9.635932</td>\n",
       "      <td>-0.061430</td>\n",
       "      <td>9.706984</td>\n",
       "    </tr>\n",
       "    <tr>\n",
       "      <th>3</th>\n",
       "      <td>4</td>\n",
       "      <td>0.002035</td>\n",
       "      <td>30.798487</td>\n",
       "      <td>-0.113082</td>\n",
       "      <td>11.617223</td>\n",
       "    </tr>\n",
       "    <tr>\n",
       "      <th>4</th>\n",
       "      <td>5</td>\n",
       "      <td>0.022715</td>\n",
       "      <td>9.642534</td>\n",
       "      <td>-0.159155</td>\n",
       "      <td>11.707889</td>\n",
       "    </tr>\n",
       "    <tr>\n",
       "      <th>5</th>\n",
       "      <td>6</td>\n",
       "      <td>0.021788</td>\n",
       "      <td>26.476227</td>\n",
       "      <td>-0.154311</td>\n",
       "      <td>17.197473</td>\n",
       "    </tr>\n",
       "    <tr>\n",
       "      <th>6</th>\n",
       "      <td>7</td>\n",
       "      <td>0.019232</td>\n",
       "      <td>12.678096</td>\n",
       "      <td>-0.126242</td>\n",
       "      <td>9.635353</td>\n",
       "    </tr>\n",
       "    <tr>\n",
       "      <th>7</th>\n",
       "      <td>8</td>\n",
       "      <td>0.046900</td>\n",
       "      <td>8.752803</td>\n",
       "      <td>-0.070030</td>\n",
       "      <td>9.094665</td>\n",
       "    </tr>\n",
       "    <tr>\n",
       "      <th>8</th>\n",
       "      <td>9</td>\n",
       "      <td>0.023307</td>\n",
       "      <td>9.758593</td>\n",
       "      <td>-0.130595</td>\n",
       "      <td>11.230886</td>\n",
       "    </tr>\n",
       "    <tr>\n",
       "      <th>9</th>\n",
       "      <td>10</td>\n",
       "      <td>0.017935</td>\n",
       "      <td>9.891951</td>\n",
       "      <td>-0.138523</td>\n",
       "      <td>12.140691</td>\n",
       "    </tr>\n",
       "    <tr>\n",
       "      <th>10</th>\n",
       "      <td>11</td>\n",
       "      <td>0.026675</td>\n",
       "      <td>10.078026</td>\n",
       "      <td>-0.140926</td>\n",
       "      <td>11.493215</td>\n",
       "    </tr>\n",
       "    <tr>\n",
       "      <th>11</th>\n",
       "      <td>12</td>\n",
       "      <td>0.025204</td>\n",
       "      <td>9.419806</td>\n",
       "      <td>-0.115374</td>\n",
       "      <td>9.258657</td>\n",
       "    </tr>\n",
       "    <tr>\n",
       "      <th>12</th>\n",
       "      <td>13</td>\n",
       "      <td>0.030227</td>\n",
       "      <td>8.676220</td>\n",
       "      <td>0.289249</td>\n",
       "      <td>125.220203</td>\n",
       "    </tr>\n",
       "    <tr>\n",
       "      <th>13</th>\n",
       "      <td>14</td>\n",
       "      <td>-0.003453</td>\n",
       "      <td>9.422395</td>\n",
       "      <td>-0.105336</td>\n",
       "      <td>10.629389</td>\n",
       "    </tr>\n",
       "    <tr>\n",
       "      <th>14</th>\n",
       "      <td>15</td>\n",
       "      <td>0.020169</td>\n",
       "      <td>9.812209</td>\n",
       "      <td>-0.135267</td>\n",
       "      <td>11.993222</td>\n",
       "    </tr>\n",
       "    <tr>\n",
       "      <th>15</th>\n",
       "      <td>16</td>\n",
       "      <td>0.006739</td>\n",
       "      <td>9.497671</td>\n",
       "      <td>-0.118931</td>\n",
       "      <td>10.848385</td>\n",
       "    </tr>\n",
       "    <tr>\n",
       "      <th>16</th>\n",
       "      <td>17</td>\n",
       "      <td>0.019268</td>\n",
       "      <td>9.657509</td>\n",
       "      <td>-0.100339</td>\n",
       "      <td>13.435700</td>\n",
       "    </tr>\n",
       "    <tr>\n",
       "      <th>17</th>\n",
       "      <td>18</td>\n",
       "      <td>0.017605</td>\n",
       "      <td>8.470344</td>\n",
       "      <td>-0.022570</td>\n",
       "      <td>24.811520</td>\n",
       "    </tr>\n",
       "    <tr>\n",
       "      <th>18</th>\n",
       "      <td>19</td>\n",
       "      <td>-0.004788</td>\n",
       "      <td>9.078733</td>\n",
       "      <td>-0.100146</td>\n",
       "      <td>10.261368</td>\n",
       "    </tr>\n",
       "    <tr>\n",
       "      <th>19</th>\n",
       "      <td>20</td>\n",
       "      <td>0.019624</td>\n",
       "      <td>9.308660</td>\n",
       "      <td>-0.128844</td>\n",
       "      <td>11.225245</td>\n",
       "    </tr>\n",
       "    <tr>\n",
       "      <th>20</th>\n",
       "      <td>21</td>\n",
       "      <td>-0.007867</td>\n",
       "      <td>9.224565</td>\n",
       "      <td>-0.103152</td>\n",
       "      <td>10.433308</td>\n",
       "    </tr>\n",
       "    <tr>\n",
       "      <th>21</th>\n",
       "      <td>22</td>\n",
       "      <td>0.021766</td>\n",
       "      <td>8.139648</td>\n",
       "      <td>-0.056785</td>\n",
       "      <td>7.689594</td>\n",
       "    </tr>\n",
       "    <tr>\n",
       "      <th>22</th>\n",
       "      <td>23</td>\n",
       "      <td>0.007225</td>\n",
       "      <td>7.684455</td>\n",
       "      <td>-0.060255</td>\n",
       "      <td>8.109360</td>\n",
       "    </tr>\n",
       "    <tr>\n",
       "      <th>23</th>\n",
       "      <td>24</td>\n",
       "      <td>-0.003592</td>\n",
       "      <td>8.780666</td>\n",
       "      <td>-0.096036</td>\n",
       "      <td>9.909463</td>\n",
       "    </tr>\n",
       "    <tr>\n",
       "      <th>24</th>\n",
       "      <td>25</td>\n",
       "      <td>0.019598</td>\n",
       "      <td>9.051293</td>\n",
       "      <td>-0.118028</td>\n",
       "      <td>10.804096</td>\n",
       "    </tr>\n",
       "    <tr>\n",
       "      <th>25</th>\n",
       "      <td>26</td>\n",
       "      <td>0.010883</td>\n",
       "      <td>8.877545</td>\n",
       "      <td>-0.107124</td>\n",
       "      <td>9.976398</td>\n",
       "    </tr>\n",
       "    <tr>\n",
       "      <th>26</th>\n",
       "      <td>27</td>\n",
       "      <td>0.033979</td>\n",
       "      <td>7.612370</td>\n",
       "      <td>-0.062159</td>\n",
       "      <td>8.179160</td>\n",
       "    </tr>\n",
       "    <tr>\n",
       "      <th>27</th>\n",
       "      <td>28</td>\n",
       "      <td>0.010209</td>\n",
       "      <td>8.213521</td>\n",
       "      <td>-0.026352</td>\n",
       "      <td>10.028616</td>\n",
       "    </tr>\n",
       "    <tr>\n",
       "      <th>28</th>\n",
       "      <td>29</td>\n",
       "      <td>-0.011278</td>\n",
       "      <td>8.012658</td>\n",
       "      <td>-0.017755</td>\n",
       "      <td>9.505379</td>\n",
       "    </tr>\n",
       "    <tr>\n",
       "      <th>29</th>\n",
       "      <td>30</td>\n",
       "      <td>0.016158</td>\n",
       "      <td>8.402189</td>\n",
       "      <td>-0.030039</td>\n",
       "      <td>9.875275</td>\n",
       "    </tr>\n",
       "  </tbody>\n",
       "</table>\n",
       "</div>"
      ],
      "text/plain": [
       "    Channel  Mean_Alert  Std_Alert  Mean_Drowsy  Std_Drowsy\n",
       "0         1    0.120450  17.630071    -0.163686   10.802148\n",
       "1         2    0.082160  17.209800    -0.163763   12.170468\n",
       "2         3    0.052289   9.635932    -0.061430    9.706984\n",
       "3         4    0.002035  30.798487    -0.113082   11.617223\n",
       "4         5    0.022715   9.642534    -0.159155   11.707889\n",
       "5         6    0.021788  26.476227    -0.154311   17.197473\n",
       "6         7    0.019232  12.678096    -0.126242    9.635353\n",
       "7         8    0.046900   8.752803    -0.070030    9.094665\n",
       "8         9    0.023307   9.758593    -0.130595   11.230886\n",
       "9        10    0.017935   9.891951    -0.138523   12.140691\n",
       "10       11    0.026675  10.078026    -0.140926   11.493215\n",
       "11       12    0.025204   9.419806    -0.115374    9.258657\n",
       "12       13    0.030227   8.676220     0.289249  125.220203\n",
       "13       14   -0.003453   9.422395    -0.105336   10.629389\n",
       "14       15    0.020169   9.812209    -0.135267   11.993222\n",
       "15       16    0.006739   9.497671    -0.118931   10.848385\n",
       "16       17    0.019268   9.657509    -0.100339   13.435700\n",
       "17       18    0.017605   8.470344    -0.022570   24.811520\n",
       "18       19   -0.004788   9.078733    -0.100146   10.261368\n",
       "19       20    0.019624   9.308660    -0.128844   11.225245\n",
       "20       21   -0.007867   9.224565    -0.103152   10.433308\n",
       "21       22    0.021766   8.139648    -0.056785    7.689594\n",
       "22       23    0.007225   7.684455    -0.060255    8.109360\n",
       "23       24   -0.003592   8.780666    -0.096036    9.909463\n",
       "24       25    0.019598   9.051293    -0.118028   10.804096\n",
       "25       26    0.010883   8.877545    -0.107124    9.976398\n",
       "26       27    0.033979   7.612370    -0.062159    8.179160\n",
       "27       28    0.010209   8.213521    -0.026352   10.028616\n",
       "28       29   -0.011278   8.012658    -0.017755    9.505379\n",
       "29       30    0.016158   8.402189    -0.030039    9.875275"
      ]
     },
     "execution_count": 12,
     "metadata": {},
     "output_type": "execute_result"
    }
   ],
   "source": [
    "stats_df  "
   ]
  },
  {
   "cell_type": "markdown",
   "id": "0ccce4f3",
   "metadata": {},
   "source": [
    "## EEG Channel Statistics Across Subjects and Timepoints"
   ]
  },
  {
   "cell_type": "code",
   "execution_count": 13,
   "id": "eb42742b",
   "metadata": {},
   "outputs": [],
   "source": [
    "# Compute basic statistics for each EEG channel\n",
    "mean_values = np.mean(eeg_samples, axis=(0, 2))  # Compute mean along subjects and timepoints\n",
    "std_values = np.std(eeg_samples, axis=(0, 2))    # Compute standard deviation along subjects and timepoints\n",
    "min_values = np.min(eeg_samples, axis=(0, 2))    # Compute minimum along subjects and timepoints\n",
    "max_values = np.max(eeg_samples, axis=(0, 2))    # Compute maximum along subjects and timepoints\n",
    "\n",
    "# Create a list of dictionaries for each channel's statistics\n",
    "channel_stats = [\n",
    "    {\n",
    "        \"Channel\": channel_index + 1,\n",
    "        \"Mean\": f\"{mean_values[channel_index]:.4f}\",\n",
    "        \"Std Dev\": f\"{std_values[channel_index]:.4f}\",\n",
    "        \"Min\": f\"{min_values[channel_index]:.4f}\",\n",
    "        \"Max\": f\"{max_values[channel_index]:.4f}\"\n",
    "    }\n",
    "    for channel_index in range(num_channels)\n",
    "]"
   ]
  },
  {
   "cell_type": "code",
   "execution_count": 14,
   "id": "081e3c4a",
   "metadata": {},
   "outputs": [
    {
     "name": "stdout",
     "output_type": "stream",
     "text": [
      "Basic Statistics for EEG Channels\n",
      "+-----------+---------+-----------+-----------+----------+\n",
      "|   Channel |    Mean |   Std Dev |       Min |      Max |\n",
      "+===========+=========+===========+===========+==========+\n",
      "|         1 | -0.0216 |   14.621  |  -573.236 |  871.908 |\n",
      "+-----------+---------+-----------+-----------+----------+\n",
      "|         2 | -0.0408 |   14.9052 | -1299.32  |  911.153 |\n",
      "+-----------+---------+-----------+-----------+----------+\n",
      "|         3 | -0.0046 |    9.6717 |  -208.161 |  243.286 |\n",
      "+-----------+---------+-----------+-----------+----------+\n",
      "|         4 | -0.0555 |   23.2757 | -1302.31  | 1795.54  |\n",
      "+-----------+---------+-----------+-----------+----------+\n",
      "|         5 | -0.0682 |   10.7254 |  -259.186 |  157.868 |\n",
      "+-----------+---------+-----------+-----------+----------+\n",
      "|         6 | -0.0663 |   22.3244 | -1914.6   | 1294.24  |\n",
      "+-----------+---------+-----------+-----------+----------+\n",
      "|         7 | -0.0535 |   11.2602 |  -496.507 |  754.21  |\n",
      "+-----------+---------+-----------+-----------+----------+\n",
      "|         8 | -0.0116 |    8.9256 |  -257.126 |  178.263 |\n",
      "+-----------+---------+-----------+-----------+----------+\n",
      "|         9 | -0.0536 |   10.5208 |  -264.446 |  358.262 |\n",
      "+-----------+---------+-----------+-----------+----------+\n",
      "|        10 | -0.0603 |   11.0738 |  -170.11  |  172.712 |\n",
      "+-----------+---------+-----------+-----------+----------+\n",
      "|        11 | -0.0571 |   10.8091 |  -220.874 |  281.422 |\n",
      "+-----------+---------+-----------+-----------+----------+\n",
      "|        12 | -0.0451 |    9.3398 |  -249.349 |  203.987 |\n",
      "+-----------+---------+-----------+-----------+----------+\n",
      "|        13 |  0.1597 |   88.7564 | -3195.43  | 3430.91  |\n",
      "+-----------+---------+-----------+-----------+----------+\n",
      "|        14 | -0.0544 |   10.0442 |  -259.922 |  369.902 |\n",
      "+-----------+---------+-----------+-----------+----------+\n",
      "|        15 | -0.0575 |   10.9574 |  -166.841 |  181.824 |\n",
      "+-----------+---------+-----------+-----------+----------+\n",
      "|        16 | -0.0561 |   10.1956 |  -219.692 |  257.303 |\n",
      "+-----------+---------+-----------+-----------+----------+\n",
      "|        17 | -0.0405 |   11.7003 |  -423.928 |  333.974 |\n",
      "+-----------+---------+-----------+-----------+----------+\n",
      "|        18 | -0.0025 |   18.5386 |  -724.467 | 1960.03  |\n",
      "+-----------+---------+-----------+-----------+----------+\n",
      "|        19 | -0.0525 |    9.6882 |  -217.814 |  291.793 |\n",
      "+-----------+---------+-----------+-----------+----------+\n",
      "|        20 | -0.0546 |   10.3118 |  -164.804 |  176.846 |\n",
      "+-----------+---------+-----------+-----------+----------+\n",
      "|        21 | -0.0555 |    9.8476 |  -168.964 |  227.467 |\n",
      "+-----------+---------+-----------+-----------+----------+\n",
      "|        22 | -0.0175 |    7.9179 |  -412.437 |  169.198 |\n",
      "+-----------+---------+-----------+-----------+----------+\n",
      "|        23 | -0.0265 |    7.8998 |  -164.085 |  221.974 |\n",
      "+-----------+---------+-----------+-----------+----------+\n",
      "|        24 | -0.0498 |    9.3622 |  -182.131 |  228.133 |\n",
      "+-----------+---------+-----------+-----------+----------+\n",
      "|        25 | -0.0492 |    9.9665 |  -160.505 |  167.532 |\n",
      "+-----------+---------+-----------+-----------+----------+\n",
      "|        26 | -0.0481 |    9.4432 |  -188.102 |  191.192 |\n",
      "+-----------+---------+-----------+-----------+----------+\n",
      "|        27 | -0.0141 |    7.901  |  -300.203 |  159.28  |\n",
      "+-----------+---------+-----------+-----------+----------+\n",
      "|        28 | -0.0081 |    9.1661 |  -155.317 |  179.167 |\n",
      "+-----------+---------+-----------+-----------+----------+\n",
      "|        29 | -0.0145 |    8.7908 |  -164.68  |  149.156 |\n",
      "+-----------+---------+-----------+-----------+----------+\n",
      "|        30 | -0.0069 |    9.1684 |  -170.631 |  149.996 |\n",
      "+-----------+---------+-----------+-----------+----------+\n"
     ]
    }
   ],
   "source": [
    "# Printing the table\n",
    "print(\"Basic Statistics for EEG Channels\")\n",
    "print(tabulate(channel_stats, headers=\"keys\", tablefmt=\"grid\"))"
   ]
  },
  {
   "cell_type": "markdown",
   "id": "5fabe09b",
   "metadata": {},
   "source": [
    "# Segregating Subject 1"
   ]
  },
  {
   "cell_type": "code",
   "execution_count": 15,
   "id": "98e21534",
   "metadata": {},
   "outputs": [],
   "source": [
    "import scipy.io\n",
    "\n",
    "# Segregate the data for Subject 1\n",
    "subject1_data = mat_data['EEGsample'][mat_data['subindex'][:, 0] == 1, :]\n",
    "subject1_labels = mat_data['substate'][mat_data['subindex'][:, 0] == 1]"
   ]
  },
  {
   "cell_type": "code",
   "execution_count": 16,
   "id": "dbac4f92",
   "metadata": {},
   "outputs": [],
   "source": [
    "# Save the segregated data as a new dataset\n",
    "new_data = {'EEGsample': subject1_data, 'substate': subject1_labels, 'subindex': np.ones((np.sum(mat_data['subindex'][:, 0] == 1), 1))}\n",
    "scipy.io.savemat('subject1_dataset.mat', new_data)"
   ]
  },
  {
   "cell_type": "markdown",
   "id": "f0394bdf",
   "metadata": {},
   "source": [
    "# Segregate the data into alert and drowsy states"
   ]
  },
  {
   "cell_type": "code",
   "execution_count": 19,
   "id": "40c3876e",
   "metadata": {},
   "outputs": [],
   "source": [
    "import scipy.io\n",
    "\n",
    "# Load the dataset for Subject 1\n",
    "subject1_data = scipy.io.loadmat('subject1_dataset.mat')\n",
    "\n",
    "# Segregate the data into alert and drowsy states\n",
    "alert_data = subject1_data['EEGsample'][subject1_data['substate'][:, 0] == 0, :]\n",
    "drowsy_data = subject1_data['EEGsample'][subject1_data['substate'][:, 0] == 1, :]\n",
    "\n",
    "# Save the segregated data as new datasets\n",
    "scipy.io.savemat('alert_data.mat', {'EEGsample': alert_data})\n",
    "scipy.io.savemat('drowsy_data.mat', {'EEGsample': drowsy_data})"
   ]
  },
  {
   "cell_type": "code",
   "execution_count": 22,
   "id": "208c125c",
   "metadata": {},
   "outputs": [
    {
     "name": "stdout",
     "output_type": "stream",
     "text": [
      "EEGsample shape: (94, 30, 384)\n"
     ]
    }
   ],
   "source": [
    "eeg_samples = alert_data['EEGsample']\n",
    "print(\"EEGsample shape:\", eeg_samples.shape)"
   ]
  },
  {
   "cell_type": "code",
   "execution_count": 26,
   "id": "5e4ceb9a",
   "metadata": {},
   "outputs": [],
   "source": [
    "import numpy as np\n",
    "import pandas as pd\n",
    "import scipy.io\n",
    "\n",
    "# Load the alert data\n",
    "alert_data = scipy.io.loadmat('alert_data.mat')\n",
    "\n",
    "# Transpose the EEGsample for each sample\n",
    "transposed_EEG = np.transpose(alert_data['EEGsample'], (0, 2, 1))"
   ]
  },
  {
   "cell_type": "code",
   "execution_count": 27,
   "id": "672aa219",
   "metadata": {},
   "outputs": [
    {
     "data": {
      "text/plain": [
       "(94, 384, 30)"
      ]
     },
     "execution_count": 27,
     "metadata": {},
     "output_type": "execute_result"
    }
   ],
   "source": [
    "transposed_EEG.shape"
   ]
  },
  {
   "cell_type": "code",
   "execution_count": 30,
   "id": "1050b130",
   "metadata": {},
   "outputs": [],
   "source": [
    "# Concatenate all the samples together\n",
    "concatenated_EEG = np.concatenate(transposed_EEG, axis=0)"
   ]
  },
  {
   "cell_type": "code",
   "execution_count": 31,
   "id": "8600e247",
   "metadata": {},
   "outputs": [
    {
     "data": {
      "text/plain": [
       "(36096, 30)"
      ]
     },
     "execution_count": 31,
     "metadata": {},
     "output_type": "execute_result"
    }
   ],
   "source": [
    "concatenated_EEG.shape"
   ]
  },
  {
   "cell_type": "code",
   "execution_count": 32,
   "id": "0d8c3781",
   "metadata": {},
   "outputs": [],
   "source": [
    "import pandas as pd\n",
    "\n",
    "# Create a new dataframe with the concatenated EEG values\n",
    "df = pd.DataFrame(concatenated_EEG)\n",
    "\n",
    "# Save the new dataframe as a CSV file\n",
    "df.to_csv('concatenated_EEG.csv', index=False)"
   ]
  },
  {
   "cell_type": "code",
   "execution_count": 33,
   "id": "2bc1b95a",
   "metadata": {},
   "outputs": [
    {
     "data": {
      "image/png": "[encoded data removed]",
      "text/plain": [
       "<Figure size 640x480 with 1 Axes>"
      ]
     },
     "metadata": {},
     "output_type": "display_data"
    }
   ],
   "source": [
    "import matplotlib.pyplot as plt\n",
    "\n",
    "# Plot the entire column of the concatenated EEG data\n",
    "plt.plot(concatenated_EEG)\n",
    "\n",
    "# Show the plot\n",
    "plt.show()"
   ]
  },
  {
   "cell_type": "code",
   "execution_count": 37,
   "id": "c8eec989",
   "metadata": {},
   "outputs": [
    {
     "data": {
      "image/png": "[encoded data removed]",
      "text/plain": [
       "<Figure size 640x480 with 1 Axes>"
      ]
     },
     "metadata": {},
     "output_type": "display_data"
    }
   ],
   "source": [
    "import matplotlib.pyplot as plt\n",
    "\n",
    "# Select the column to plot\n",
    "column_to_plot = 3\n",
    "\n",
    "# Plot the selected column of the concatenated EEG data\n",
    "plt.plot(concatenated_EEG[:, column_to_plot])\n",
    "\n",
    "# Show the plot\n",
    "plt.show()"
   ]
  },
  {
   "cell_type": "code",
   "execution_count": null,
   "id": "04cfa6a1",
   "metadata": {},
   "outputs": [],
   "source": []
  }
 ],
 "metadata": {
  "kernelspec": {
   "display_name": "Python 3 (ipykernel)",
   "language": "python",
   "name": "python3"
  },
  "language_info": {
   "codemirror_mode": {
    "name": "ipython",
    "version": 3
   },
   "file_extension": ".py",
   "mimetype": "text/x-python",
   "name": "python",
   "nbconvert_exporter": "python",
   "pygments_lexer": "ipython3",
   "version": "3.9.15"
  }
 },
 "nbformat": 4,
 "nbformat_minor": 5
}
